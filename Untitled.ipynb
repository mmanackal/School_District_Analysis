{
 "cells": [
  {
   "cell_type": "code",
   "execution_count": 1,
   "id": "a3773618",
   "metadata": {},
   "outputs": [
    {
     "name": "stdout",
     "output_type": "stream",
     "text": [
      "   transaction_id customer location  amount\n",
      "0               1     adam  houston  279.26\n",
      "1               2       ed  atlanta   68.80\n",
      "2               3    betty  chicago  433.29\n",
      "3               4       ed  houston  194.01\n",
      "4               5     carl  houston  880.93\n",
      "   customer_id customer_name hometown\n",
      "0            1         betty  houston\n",
      "1            2            ed  houston\n",
      "2            3         betty  houston\n",
      "3            4         betty  houston\n",
      "4            5          adam  chicago\n"
     ]
    }
   ],
   "source": [
    "import random, pandas\n",
    "\n",
    "NUM_ROWS = 50000\n",
    "\n",
    "cities = ['atlanta', 'chicago', 'houston']\n",
    "customers = ['adam', 'betty', 'carl', 'dave', 'ed']\n",
    "\n",
    "\n",
    "transactions_df = pandas.DataFrame({\n",
    "    'transaction_id': [i+1 for i in range(NUM_ROWS)],\n",
    "    'customer': [random.choice(customers) for i in range(NUM_ROWS)],\n",
    "    'location': [random.choice(cities) for i in range(NUM_ROWS)],\n",
    "    'amount': [random.randint(100, 100000)/100 for i in range(NUM_ROWS)]\n",
    "})\n",
    "\n",
    "customers_df = pandas.DataFrame()\n",
    "customers_df['customer_id'] = [i+1 for i in range(len(customers))]\n",
    "customers_df['customer_name'] = [random.choice(customers) for c in customers]\n",
    "customers_df['hometown'] = [random.choice(cities) for c in customers]\n",
    "# transactions_df.to_csv('transactions.csv')\n",
    "print(transactions_df.head())\n",
    "print(customers_df.head())"
   ]
  },
  {
   "cell_type": "code",
   "execution_count": null,
   "id": "eca213ad",
   "metadata": {},
   "outputs": [],
   "source": []
  }
 ],
 "metadata": {
  "kernelspec": {
   "display_name": "Python 3",
   "language": "python",
   "name": "python3"
  },
  "language_info": {
   "codemirror_mode": {
    "name": "ipython",
    "version": 3
   },
   "file_extension": ".py",
   "mimetype": "text/x-python",
   "name": "python",
   "nbconvert_exporter": "python",
   "pygments_lexer": "ipython3",
   "version": "3.8.8"
  }
 },
 "nbformat": 4,
 "nbformat_minor": 5
}
